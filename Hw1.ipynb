{
 "cells": [
  {
   "cell_type": "code",
   "execution_count": 1,
   "metadata": {},
   "outputs": [],
   "source": [
    "import numpy as np"
   ]
  },
  {
   "cell_type": "code",
   "execution_count": 2,
   "metadata": {},
   "outputs": [
    {
     "name": "stdout",
     "output_type": "stream",
     "text": [
      "Вектор з першими 10-ма натуральними числами:\n",
      " [ 1  2  3  4  5  6  7  8  9 10]\n"
     ]
    }
   ],
   "source": [
    "vector = np.arange(1, 11)\n",
    "print(\"Вектор з першими 10-ма натуральними числами:\\n\", vector)"
   ]
  },
  {
   "cell_type": "code",
   "execution_count": 3,
   "metadata": {},
   "outputs": [
    {
     "name": "stdout",
     "output_type": "stream",
     "text": [
      "\n",
      "Матриця 3x3, заповнена нулями:\n",
      " [[0. 0. 0.]\n",
      " [0. 0. 0.]\n",
      " [0. 0. 0.]]\n"
     ]
    }
   ],
   "source": [
    "matrix_3x3 = np.zeros((3, 3))\n",
    "print(\"\\nМатриця 3x3, заповнена нулями:\\n\", matrix_3x3)\n"
   ]
  },
  {
   "cell_type": "code",
   "execution_count": 4,
   "metadata": {},
   "outputs": [
    {
     "name": "stdout",
     "output_type": "stream",
     "text": [
      "\n",
      "Матриця 5x5, заповнена випадковими цілими числами в діапазоні від 1 до 10:\n",
      " [[ 2  9  3  5  9]\n",
      " [ 9  2  7  3  4]\n",
      " [ 5  9  6  7  2]\n",
      " [ 8  8 10 10 10]\n",
      " [ 8  4  6  3 10]]\n"
     ]
    }
   ],
   "source": [
    "matrix_5x5 = np.random.randint(1, 11, (5, 5))\n",
    "print(\"\\nМатриця 5x5, заповнена випадковими цілими числами в діапазоні від 1 до 10:\\n\", matrix_5x5)"
   ]
  },
  {
   "cell_type": "code",
   "execution_count": 5,
   "metadata": {},
   "outputs": [
    {
     "name": "stdout",
     "output_type": "stream",
     "text": [
      "\n",
      "Матриця 4x4, заповнена випадковими дійсними числами в діапазоні від 0 до 1:\n",
      " [[0.84983676 0.00929812 0.43795606 0.33794081]\n",
      " [0.02031858 0.31871931 0.34947812 0.10020875]\n",
      " [0.98374966 0.75957853 0.60579667 0.25555785]\n",
      " [0.51988437 0.82485947 0.03193535 0.26881507]]\n"
     ]
    }
   ],
   "source": [
    "matrix_4x4 = np.random.rand(4, 4)\n",
    "print(\"\\nМатриця 4x4, заповнена випадковими дійсними числами в діапазоні від 0 до 1:\\n\", matrix_4x4)"
   ]
  },
  {
   "cell_type": "code",
   "execution_count": 6,
   "metadata": {},
   "outputs": [
    {
     "name": "stdout",
     "output_type": "stream",
     "text": [
      "\n",
      "Вектор1:\n",
      " [ 2  7  5 10  7]\n",
      "Вектор2:\n",
      " [ 4  7  4 10  4]\n",
      "Поелементне додавання:\n",
      " [ 6 14  9 20 11]\n",
      "Поелементне віднімання:\n",
      " [-2  0  1  0  3]\n",
      "Поелементне множення:\n",
      " [  8  49  20 100  28]\n"
     ]
    }
   ],
   "source": [
    "vector1 = np.random.randint(1, 11, 5)\n",
    "vector2 = np.random.randint(1, 11, 5)\n",
    "print(\"\\nВектор1:\\n\", vector1)\n",
    "print(\"Вектор2:\\n\", vector2)\n",
    "print(\"Поелементне додавання:\\n\", vector1 + vector2)\n",
    "print(\"Поелементне віднімання:\\n\", vector1 - vector2)\n",
    "print(\"Поелементне множення:\\n\", vector1 * vector2)"
   ]
  },
  {
   "cell_type": "code",
   "execution_count": 7,
   "metadata": {},
   "outputs": [
    {
     "name": "stdout",
     "output_type": "stream",
     "text": [
      "\n",
      "Вектор3:\n",
      " [0.21948451 0.19163323 0.15444113 0.19732418 0.70870867 0.78294817\n",
      " 0.98885711]\n",
      "Вектор4:\n",
      " [0.58716363 0.1463266  0.84393918 0.08021965 0.71194625 0.95043289\n",
      " 0.90653868]\n",
      "Скалярний добуток:\n",
      " 2.448221955648235\n"
     ]
    }
   ],
   "source": [
    "vector3 = np.random.rand(7)\n",
    "vector4 = np.random.rand(7)\n",
    "print(\"\\nВектор3:\\n\", vector3)\n",
    "print(\"Вектор4:\\n\", vector4)\n",
    "print(\"Скалярний добуток:\\n\", np.dot(vector3, vector4))"
   ]
  },
  {
   "cell_type": "code",
   "execution_count": 8,
   "metadata": {},
   "outputs": [
    {
     "name": "stdout",
     "output_type": "stream",
     "text": [
      "\n",
      "Матриця1:\n",
      " [[6 6]\n",
      " [2 2]]\n",
      "Матриця2:\n",
      " [[ 8  9 10]\n",
      " [10 10  4]]\n",
      "Добуток матриць:\n",
      " [[108 114  84]\n",
      " [ 36  38  28]]\n"
     ]
    }
   ],
   "source": [
    "matrix1 = np.random.randint(1, 11, (2, 2))\n",
    "matrix2 = np.random.randint(1, 11, (2, 3))\n",
    "print(\"\\nМатриця1:\\n\", matrix1)\n",
    "print(\"Матриця2:\\n\", matrix2)\n",
    "print(\"Добуток матриць:\\n\", np.dot(matrix1, matrix2))"
   ]
  },
  {
   "cell_type": "code",
   "execution_count": 9,
   "metadata": {},
   "outputs": [
    {
     "name": "stdout",
     "output_type": "stream",
     "text": [
      "\n",
      "Матриця3:\n",
      " [[ 9  1  2]\n",
      " [ 5  2  4]\n",
      " [10  4  5]]\n",
      "Обернена матриця:\n",
      " [[ 0.15384615 -0.07692308  0.        ]\n",
      " [-0.38461538 -0.64102564  0.66666667]\n",
      " [ 0.          0.66666667 -0.33333333]]\n"
     ]
    }
   ],
   "source": [
    "matrix3 = np.random.randint(1, 11, (3, 3))\n",
    "print(\"\\nМатриця3:\\n\", matrix3)\n",
    "print(\"Обернена матриця:\\n\", np.linalg.inv(matrix3))"
   ]
  },
  {
   "cell_type": "code",
   "execution_count": 10,
   "metadata": {},
   "outputs": [
    {
     "name": "stdout",
     "output_type": "stream",
     "text": [
      "\n",
      "Матриця4:\n",
      " [[0.30212966 0.96061745 0.89722666 0.48881466]\n",
      " [0.22338315 0.81893159 0.03697476 0.21867681]\n",
      " [0.14088762 0.03180556 0.07100018 0.83539864]\n",
      " [0.62430572 0.58223006 0.76941922 0.8116525 ]]\n",
      "Транспонована матриця:\n",
      " [[0.30212966 0.22338315 0.14088762 0.62430572]\n",
      " [0.96061745 0.81893159 0.03180556 0.58223006]\n",
      " [0.89722666 0.03697476 0.07100018 0.76941922]\n",
      " [0.48881466 0.21867681 0.83539864 0.8116525 ]]\n"
     ]
    }
   ],
   "source": [
    "matrix4 = np.random.rand(4, 4)\n",
    "print(\"\\nМатриця4:\\n\", matrix4)\n",
    "print(\"Транспонована матриця:\\n\", matrix4.T)"
   ]
  },
  {
   "cell_type": "code",
   "execution_count": 11,
   "metadata": {},
   "outputs": [
    {
     "name": "stdout",
     "output_type": "stream",
     "text": [
      "\n",
      "Матриця5:\n",
      " [[10  5  9 10]\n",
      " [ 1  6  2 10]\n",
      " [ 8  9  4  5]]\n",
      "Вектор5:\n",
      " [7 3 6 3]\n",
      "Добуток матриці на вектор:\n",
      " [169  67 122]\n"
     ]
    }
   ],
   "source": [
    "matrix5 = np.random.randint(1, 11, (3, 4))\n",
    "vector5 = np.random.randint(1, 11, 4)\n",
    "print(\"\\nМатриця5:\\n\", matrix5)\n",
    "print(\"Вектор5:\\n\", vector5)\n",
    "print(\"Добуток матриці на вектор:\\n\", np.dot(matrix5, vector5))"
   ]
  },
  {
   "cell_type": "code",
   "execution_count": 12,
   "metadata": {},
   "outputs": [
    {
     "name": "stdout",
     "output_type": "stream",
     "text": [
      "\n",
      "Матриця6:\n",
      " [[0.33917655 0.86465656 0.26739274]\n",
      " [0.5075764  0.60273042 0.56357246]]\n",
      "Вектор6:\n",
      " [0.96701158 0.65972506 0.43028917]\n",
      "Добуток матриці на вектор:\n",
      " [1.01347945 1.13096775]\n"
     ]
    }
   ],
   "source": [
    "matrix6 = np.random.rand(2, 3)\n",
    "vector6 = np.random.rand(3)\n",
    "print(\"\\nМатриця6:\\n\", matrix6)\n",
    "print(\"Вектор6:\\n\", vector6)\n",
    "print(\"Добуток матриці на вектор:\\n\", np.dot(matrix6, vector6))"
   ]
  },
  {
   "cell_type": "code",
   "execution_count": 13,
   "metadata": {},
   "outputs": [
    {
     "name": "stdout",
     "output_type": "stream",
     "text": [
      "\n",
      "Матриця7:\n",
      " [[6 2]\n",
      " [8 9]]\n",
      "Матриця8:\n",
      " [[8 4]\n",
      " [9 2]]\n",
      "Поелементне множення:\n",
      " [[48  8]\n",
      " [72 18]]\n"
     ]
    }
   ],
   "source": [
    "matrix7 = np.random.randint(1, 11, (2, 2))\n",
    "matrix8 = np.random.randint(1, 11, (2, 2))\n",
    "print(\"\\nМатриця7:\\n\", matrix7)\n",
    "print(\"Матриця8:\\n\", matrix8)\n",
    "print(\"Поелементне множення:\\n\", matrix7 * matrix8)"
   ]
  },
  {
   "cell_type": "code",
   "execution_count": 14,
   "metadata": {},
   "outputs": [
    {
     "name": "stdout",
     "output_type": "stream",
     "text": [
      "\n",
      "Матриця9:\n",
      " [[9 9]\n",
      " [7 1]]\n",
      "Матриця10:\n",
      " [[ 8  7]\n",
      " [ 1 10]]\n",
      "Добуток матриць:\n",
      " [[ 81 153]\n",
      " [ 57  59]]\n"
     ]
    }
   ],
   "source": [
    "matrix9 = np.random.randint(1, 11, (2, 2))\n",
    "matrix10 = np.random.randint(1, 11, (2, 2))\n",
    "print(\"\\nМатриця9:\\n\", matrix9)\n",
    "print(\"Матриця10:\\n\", matrix10)\n",
    "print(\"Добуток матриць:\\n\", np.dot(matrix9, matrix10))"
   ]
  },
  {
   "cell_type": "code",
   "execution_count": 15,
   "metadata": {},
   "outputs": [
    {
     "name": "stdout",
     "output_type": "stream",
     "text": [
      "Матриця 5x5:\n",
      " [[ 28   5  16  29  83]\n",
      " [100  97  81  76  19]\n",
      " [ 61  26  63  69  49]\n",
      " [ 34   2  43  95   1]\n",
      " [ 80   8  73  36   2]]\n",
      "Сума елементів матриці: 1176\n"
     ]
    }
   ],
   "source": [
    "matrix_5x5 = np.random.randint(1, 101, (5, 5))\n",
    "print(\"Матриця 5x5:\\n\", matrix_5x5)\n",
    "print(\"Сума елементів матриці:\", np.sum(matrix_5x5))"
   ]
  },
  {
   "cell_type": "code",
   "execution_count": 16,
   "metadata": {},
   "outputs": [
    {
     "name": "stdout",
     "output_type": "stream",
     "text": [
      "\n",
      "Матриця1 4x4:\n",
      " [[ 9  1  4  2]\n",
      " [ 9  4  8  9]\n",
      " [10  6  3  3]\n",
      " [ 6  9  1  1]]\n",
      "Матриця2 4x4:\n",
      " [[ 7  8  4  7]\n",
      " [ 5  7 10  8]\n",
      " [ 3  3 10  2]\n",
      " [ 7  1 10  1]]\n",
      "Різниця між матрицями:\n",
      " [[ 2 -7  0 -5]\n",
      " [ 4 -3 -2  1]\n",
      " [ 7  3 -7  1]\n",
      " [-1  8 -9  0]]\n"
     ]
    }
   ],
   "source": [
    "matrix1_4x4 = np.random.randint(1, 11, (4, 4))\n",
    "matrix2_4x4 = np.random.randint(1, 11, (4, 4))\n",
    "print(\"\\nМатриця1 4x4:\\n\", matrix1_4x4)\n",
    "print(\"Матриця2 4x4:\\n\", matrix2_4x4)\n",
    "print(\"Різниця між матрицями:\\n\", matrix1_4x4 - matrix2_4x4)"
   ]
  },
  {
   "cell_type": "code",
   "execution_count": 17,
   "metadata": {},
   "outputs": [
    {
     "name": "stdout",
     "output_type": "stream",
     "text": [
      "\n",
      "Матриця 3x3:\n",
      " [[0.28177207 0.06605684 0.6497468 ]\n",
      " [0.66004235 0.80244955 0.29711251]\n",
      " [0.34323207 0.3404239  0.24586849]]\n",
      "Вектор-стовпчик з сумою елементів кожного рядка:\n",
      " [0.9975757  1.75960441 0.92952447]\n"
     ]
    }
   ],
   "source": [
    "matrix_3x3 = np.random.rand(3, 3)\n",
    "print(\"\\nМатриця 3x3:\\n\", matrix_3x3)\n",
    "print(\"Вектор-стовпчик з сумою елементів кожного рядка:\\n\", np.sum(matrix_3x3, axis=1))"
   ]
  },
  {
   "cell_type": "code",
   "execution_count": 18,
   "metadata": {},
   "outputs": [
    {
     "name": "stdout",
     "output_type": "stream",
     "text": [
      "\n",
      "Матриця 3x4:\n",
      " [[4 4 3 9]\n",
      " [3 8 6 5]\n",
      " [6 9 1 6]]\n",
      "Матриця з квадратами чисел:\n",
      " [[16 16  9 81]\n",
      " [ 9 64 36 25]\n",
      " [36 81  1 36]]\n"
     ]
    }
   ],
   "source": [
    "matrix_3x4 = np.random.randint(1, 11, (3, 4))\n",
    "print(\"\\nМатриця 3x4:\\n\", matrix_3x4)\n",
    "print(\"Матриця з квадратами чисел:\\n\", np.square(matrix_3x4))"
   ]
  },
  {
   "cell_type": "code",
   "execution_count": 19,
   "metadata": {},
   "outputs": [
    {
     "name": "stdout",
     "output_type": "stream",
     "text": [
      "\n",
      "Вектор:\n",
      " [ 7 32  9 24]\n",
      "Вектор з квадратними коренями чисел:\n",
      " [2.64575131 5.65685425 3.         4.89897949]\n"
     ]
    }
   ],
   "source": [
    "vector_4 = np.random.randint(1, 51, 4)\n",
    "print(\"\\nВектор:\\n\", vector_4)\n",
    "print(\"Вектор з квадратними коренями чисел:\\n\", np.sqrt(vector_4))"
   ]
  },
  {
   "cell_type": "code",
   "execution_count": 24,
   "metadata": {},
   "outputs": [
    {
     "name": "stdout",
     "output_type": "stream",
     "text": [
      "Заміна непарних чисел на -1:\n",
      " [ 0 -1  2 -1  4 -1  6 -1  8 -1]\n"
     ]
    }
   ],
   "source": [
    "\n",
    "arr = np.array([0, 1, 2, 3, 4, 5, 6, 7, 8, 9])\n",
    "arr[arr % 2 == 1] = -1\n",
    "print(\"Заміна непарних чисел на -1:\\n\", arr)"
   ]
  },
  {
   "cell_type": "code",
   "execution_count": 27,
   "metadata": {},
   "outputs": [
    {
     "name": "stdout",
     "output_type": "stream",
     "text": [
      "1D-масив, перетворений на 2D-масив із 2 рядками:\n",
      " [[0 1 2 3 4]\n",
      " [5 6 7 8 9]]\n"
     ]
    }
   ],
   "source": [
    "arr_2d = np.arange(10).reshape(2, -1)\n",
    "print(\"1D-масив, перетворений на 2D-масив із 2 рядками:\\n\", arr_2d)"
   ]
  },
  {
   "cell_type": "code",
   "execution_count": 28,
   "metadata": {},
   "outputs": [
    {
     "name": "stdout",
     "output_type": "stream",
     "text": [
      "Вертикальне об'єднання масивів a і b:\n",
      " [[ 1  2  3]\n",
      " [ 4  5  6]\n",
      " [ 7  8  9]\n",
      " [10 11 12]]\n"
     ]
    }
   ],
   "source": [
    "a = np.array([[1, 2, 3], [4, 5, 6]])\n",
    "b = np.array([[7, 8, 9], [10, 11, 12]])\n",
    "c = np.vstack((a, b))\n",
    "print(\"Вертикальне об'єднання масивів a і b:\\n\", c)"
   ]
  },
  {
   "cell_type": "code",
   "execution_count": 29,
   "metadata": {},
   "outputs": [
    {
     "name": "stdout",
     "output_type": "stream",
     "text": [
      "Шаблон без жорсткого кодування:\n",
      " [1 1 1 2 2 2 3 3 3 1 2 3 1 2 3 1 2 3]\n"
     ]
    }
   ],
   "source": [
    "a = np.array([1, 2, 3])\n",
    "out = np.r_[np.repeat(a, 3), np.tile(a, 3)]\n",
    "print(\"Шаблон без жорсткого кодування:\\n\", out)"
   ]
  },
  {
   "cell_type": "code",
   "execution_count": 30,
   "metadata": {},
   "outputs": [
    {
     "name": "stdout",
     "output_type": "stream",
     "text": [
      "Спільні елементи між a і b:\n",
      " [2 4]\n"
     ]
    }
   ],
   "source": [
    "a = np.array([1, 2, 3, 2, 3, 4, 3, 4, 5, 6])\n",
    "b = np.array([7, 2, 10, 2, 7, 4, 9, 4, 9, 8])\n",
    "common = np.intersect1d(a, b)\n",
    "print(\"Спільні елементи між a і b:\\n\", common)"
   ]
  },
  {
   "cell_type": "code",
   "execution_count": 31,
   "metadata": {},
   "outputs": [
    {
     "name": "stdout",
     "output_type": "stream",
     "text": [
      "Позиції перших 5 максимальних значень у масиві a:\n",
      " [15 10  3  7 18]\n"
     ]
    }
   ],
   "source": [
    "np.random.seed(100)\n",
    "a = np.random.uniform(1, 50, 20)\n",
    "max_positions = a.argsort()[-5:][::-1]\n",
    "print(\"Позиції перших 5 максимальних значень у масиві a:\\n\", max_positions)"
   ]
  },
  {
   "cell_type": "code",
   "execution_count": 32,
   "metadata": {},
   "outputs": [
    {
     "name": "stdout",
     "output_type": "stream",
     "text": [
      "Масив без значень NaN:\n",
      " [1. 2. 3. 5. 6. 7.]\n"
     ]
    }
   ],
   "source": [
    "a = np.array([1, 2, 3, np.nan, 5, 6, 7, np.nan])\n",
    "a = a[~np.isnan(a)]\n",
    "print(\"Масив без значень NaN:\\n\", a)"
   ]
  },
  {
   "cell_type": "code",
   "execution_count": 33,
   "metadata": {},
   "outputs": [
    {
     "name": "stdout",
     "output_type": "stream",
     "text": [
      "Евклідова відстань між a і b:\n",
      " 6.708203932499369\n"
     ]
    }
   ],
   "source": [
    "a = np.array([1, 2, 3, 4, 5])\n",
    "b = np.array([4, 5, 6, 7, 8])\n",
    "dist = np.linalg.norm(a-b)\n",
    "print(\"Евклідова відстань між a і b:\\n\", dist)"
   ]
  },
  {
   "cell_type": "code",
   "execution_count": 34,
   "metadata": {},
   "outputs": [
    {
     "name": "stdout",
     "output_type": "stream",
     "text": [
      "Індекс 5-го повторення числа 1 у масиві x:\n",
      " 8\n"
     ]
    }
   ],
   "source": [
    "x = np.array([1, 2, 1, 1, 3, 4, 3, 1, 1, 2, 1, 1, 2])\n",
    "n = 5\n",
    "idx = np.where(x == 1)[0][n-1]\n",
    "print(\"Індекс 5-го повторення числа 1 у масиві x:\\n\", idx)"
   ]
  },
  {
   "cell_type": "code",
   "execution_count": 36,
   "metadata": {},
   "outputs": [
    {
     "name": "stdout",
     "output_type": "stream",
     "text": [
      "Повторювані записи у масиві a:\n",
      " [False  True False  True False False  True  True  True  True]\n",
      "Повторювані записи у масиві a:\n",
      " [0 0 3 0 2 4 2 2 2 2]\n"
     ]
    }
   ],
   "source": [
    "np.random.seed(100)\n",
    "a = np.random.randint(0, 5, 10)\n",
    "out = np.full(a.shape[0], True)\n",
    "unique_positions = np.unique(a, return_index=True)[1]\n",
    "out[unique_positions] = False\n",
    "print(\"Повторювані записи у масиві a:\\n\", out)\n",
    "print(\"Повторювані записи у масиві a:\\n\", a)"
   ]
  }
 ],
 "metadata": {
  "kernelspec": {
   "display_name": "Python 3",
   "language": "python",
   "name": "python3"
  },
  "language_info": {
   "codemirror_mode": {
    "name": "ipython",
    "version": 3
   },
   "file_extension": ".py",
   "mimetype": "text/x-python",
   "name": "python",
   "nbconvert_exporter": "python",
   "pygments_lexer": "ipython3",
   "version": "3.12.3"
  }
 },
 "nbformat": 4,
 "nbformat_minor": 2
}
